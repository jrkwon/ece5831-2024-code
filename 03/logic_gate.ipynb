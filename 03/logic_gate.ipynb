{
 "cells": [
  {
   "cell_type": "markdown",
   "metadata": {},
   "source": [
    "# Logic Gate"
   ]
  },
  {
   "cell_type": "markdown",
   "metadata": {},
   "source": [
    "# AND gate"
   ]
  },
  {
   "cell_type": "code",
   "execution_count": 1,
   "metadata": {},
   "outputs": [],
   "source": [
    "def and_gate(x1, x2):\n",
    "    w1 = 0.5\n",
    "    w2 = 0.5\n",
    "    th = 0.7\n",
    "    if w1*x1 + w2*x2 > th:\n",
    "        return 1\n",
    "    else:\n",
    "        return 0\n"
   ]
  },
  {
   "cell_type": "markdown",
   "metadata": {},
   "source": [
    "Let's test my first ever python function, `and_gate`."
   ]
  },
  {
   "cell_type": "code",
   "execution_count": 2,
   "metadata": {},
   "outputs": [
    {
     "name": "stdout",
     "output_type": "stream",
     "text": [
      "1\n"
     ]
    }
   ],
   "source": [
    "y = and_gate(1, 1)\n",
    "print(y)"
   ]
  },
  {
   "cell_type": "markdown",
   "metadata": {},
   "source": [
    "# LogicGate class"
   ]
  },
  {
   "cell_type": "code",
   "execution_count": 8,
   "metadata": {},
   "outputs": [],
   "source": [
    "class LogicGate():\n",
    "    def __init__(self):\n",
    "        pass\n",
    "\n",
    "    def and_gate(self, x1, x2):\n",
    "        w1 = 0.5\n",
    "        w2 = 0.5\n",
    "        th = 0.7\n",
    "        if w1*x1 + w2*x2 > th:\n",
    "            return 1\n",
    "        else:\n",
    "            return 0\n",
    "        \n",
    "    def or_gate(self, x1, x2):\n",
    "        w1 = 1\n",
    "        w2 = 1\n",
    "        th = 0.9\n",
    "        if w1*x1 + w2*x2 > th:\n",
    "            return 1\n",
    "        else:\n",
    "            return 0\n"
   ]
  },
  {
   "cell_type": "code",
   "execution_count": 9,
   "metadata": {},
   "outputs": [
    {
     "name": "stdout",
     "output_type": "stream",
     "text": [
      "AND(1, 0) --> 0\n",
      "OR(1, 0) --> 1\n"
     ]
    }
   ],
   "source": [
    "logic_gate = LogicGate()\n",
    "\n",
    "x1 = 1\n",
    "x2 = 0\n",
    "\n",
    "y = logic_gate.and_gate(x1, x2)\n",
    "print(f'AND({x1}, {x2}) --> {y}')\n",
    "\n",
    "y = logic_gate.or_gate(x1, x2)\n",
    "print(f'OR({x1}, {x2}) --> {y}')\n"
   ]
  },
  {
   "cell_type": "markdown",
   "metadata": {},
   "source": [
    "# Logic Gate with Numpy"
   ]
  },
  {
   "cell_type": "code",
   "execution_count": 10,
   "metadata": {},
   "outputs": [],
   "source": [
    "import numpy as np"
   ]
  },
  {
   "cell_type": "code",
   "execution_count": 22,
   "metadata": {},
   "outputs": [],
   "source": [
    "class LogicGate():\n",
    "    def __init__(self):\n",
    "        pass\n",
    "\n",
    "    def and_gate(self, x1, x2):\n",
    "        b = -0.7\n",
    "        w = np.array([0.5, 0.5, 1])\n",
    "        x = np.array([x1, x2, b])\n",
    "        \n",
    "        y = np.sum(x*w)\n",
    "\n",
    "        if y > 0:\n",
    "            return 1\n",
    "        else:\n",
    "            return 0\n",
    "        \n",
    "    def nand_gate(self, x1, x2):\n",
    "        b = 0.7\n",
    "        w = np.array([-0.5, -0.5, 1])\n",
    "        x = np.array([x1, x2, b])\n",
    "        \n",
    "        y = np.sum(x*w)\n",
    "\n",
    "        if y > 0:\n",
    "            return 1\n",
    "        else:\n",
    "            return 0\n",
    "        \n",
    "    def or_gate(self, x1, x2):\n",
    "        b = -0.9\n",
    "        w = np.array([1, 1, 1])\n",
    "        x = np.array([x1, x2, b])\n",
    "        \n",
    "        y = np.sum(x*w)\n",
    "\n",
    "        if y > 0:\n",
    "            return 1\n",
    "        else:\n",
    "            return 0\n",
    "        \n",
    "    def nor_gate(self, x1, x2):\n",
    "        b = -0.9\n",
    "        w = np.array([1, 1, 1])\n",
    "        x = np.array([x1, x2, b])\n",
    "        \n",
    "        y = np.sum(x*w)\n",
    "\n",
    "        if y > 0:\n",
    "            return 0\n",
    "        else:\n",
    "            return 1"
   ]
  },
  {
   "cell_type": "code",
   "execution_count": 24,
   "metadata": {},
   "outputs": [
    {
     "name": "stdout",
     "output_type": "stream",
     "text": [
      "0\n",
      "0=nand(1, 1)\n",
      "1=or(1, 0)\n"
     ]
    }
   ],
   "source": [
    "logic_gate = LogicGate()\n",
    "y = logic_gate.and_gate(0, 0)\n",
    "print(y)\n",
    "\n",
    "x1 = 1\n",
    "x2 = 1\n",
    "y = logic_gate.nand_gate(x1, x2)\n",
    "print(f'{y}=nand({x1}, {x2})')\n",
    "\n",
    "x1 = 1\n",
    "x2 = 0\n",
    "y = logic_gate.or_gate(x1, x2)\n",
    "print(f'{y}=or({x1}, {x2})')"
   ]
  }
 ],
 "metadata": {
  "kernelspec": {
   "display_name": "ece5831-2024",
   "language": "python",
   "name": "python3"
  },
  "language_info": {
   "codemirror_mode": {
    "name": "ipython",
    "version": 3
   },
   "file_extension": ".py",
   "mimetype": "text/x-python",
   "name": "python",
   "nbconvert_exporter": "python",
   "pygments_lexer": "ipython3",
   "version": "3.10.14"
  }
 },
 "nbformat": 4,
 "nbformat_minor": 2
}
